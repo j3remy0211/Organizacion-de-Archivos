{
 "cells": [
  {
   "cell_type": "code",
   "execution_count": null,
   "id": "15bce6b2",
   "metadata": {},
   "outputs": [
    {
     "ename": "",
     "evalue": "",
     "output_type": "error",
     "traceback": [
      "\u001b[1;31mRunning cells with 'Python 3.12.3' requires the ipykernel package.\n",
      "\u001b[1;31m<a href='command:jupyter.createPythonEnvAndSelectController'>Create a Python Environment</a> with the required packages.\n",
      "\u001b[1;31mOr install 'ipykernel' using the command: '/usr/bin/python3 -m pip install ipykernel -U --user --force-reinstall'"
     ]
    }
   ],
   "source": [
    "import csv\n",
    "from datetime import datetime\n",
    "\n",
    "INVENTARIO_FILE = \"inventario_componentes.csv\"\n",
    "\n",
    "# Inicializa el archivo si no existe\n",
    "def inicializar_archivo():\n",
    "    try:\n",
    "        with open(INVENTARIO_FILE, mode='x', newline='', encoding='utf-8') as file:\n",
    "            writer = csv.writer(file)\n",
    "            writer.writerow([\n",
    "                \"ID\", \"Nombre\", \"Fabricante\", \"Categoria\", \"Cantidad\", \"Fecha_Ultima_Entrada\"\n",
    "            ])\n",
    "    except FileExistsError:\n",
    "        pass"
   ]
  },
  {
   "cell_type": "code",
   "execution_count": null,
   "id": "2449db9b",
   "metadata": {},
   "outputs": [],
   "source": [
    "# Agrega un nuevo componente\n",
    "def agregar_componente():\n",
    "    print(\"\\n--- Agregar nuevo componente ---\")\n",
    "    id_parte = input(\"ID de parte: \")\n",
    "    nombre = input(\"Nombre del componente: \")\n",
    "    fabricante = input(\"Fabricante/Proveedor: \")\n",
    "    categoria = input(\"Categoría: \")\n",
    "    cantidad = int(input(\"Cantidad en stock: \"))\n",
    "    fecha_entrada = datetime.today().strftime('%Y-%m-%d')\n",
    "\n",
    "    with open(INVENTARIO_FILE, mode='a', newline='', encoding='utf-8') as file:\n",
    "        writer = csv.writer(file)\n",
    "        writer.writerow([id_parte, nombre, fabricante, categoria, cantidad, fecha_entrada])\n",
    "    print(\"Componente agregado correctamente.\")"
   ]
  }
 ],
 "metadata": {
  "kernelspec": {
   "display_name": "Python 3",
   "language": "python",
   "name": "python3"
  },
  "language_info": {
   "name": "python",
   "version": "3.12.3"
  }
 },
 "nbformat": 4,
 "nbformat_minor": 5
}
