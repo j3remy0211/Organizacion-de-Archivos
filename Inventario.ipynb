{
 "cells": [
  {
   "cell_type": "code",
   "execution_count": null,
   "id": "15bce6b2",
   "metadata": {},
   "outputs": [],
   "source": [
    "import csv\n",
    "from datetime import datetime\n",
    "\n",
    "INVENTARIO_FILE = \"inventario_componentes.csv\"\n",
    "\n",
    "# Inicializa el archivo si no existe\n",
    "def inicializar_archivo():\n",
    "    try:\n",
    "        with open(INVENTARIO_FILE, mode='x', newline='', encoding='utf-8') as file:\n",
    "            writer = csv.writer(file)\n",
    "            writer.writerow([\n",
    "                \"ID\", \"Nombre\", \"Fabricante\", \"Categoria\", \"Cantidad\", \"Fecha_Ultima_Entrada\"\n",
    "            ])\n",
    "    except FileExistsError:\n",
    "        pass"
   ]
  },
  {
   "cell_type": "code",
   "execution_count": null,
   "id": "2449db9b",
   "metadata": {},
   "outputs": [],
   "source": [
    "# Agrega un nuevo componente\n",
    "def agregar_componente():\n",
    "    print(\"\\n--- Agregar nuevo componente ---\")\n",
    "    id_parte = input(\"ID de parte: \")\n",
    "    nombre = input(\"Nombre del componente: \")\n",
    "    fabricante = input(\"Fabricante/Proveedor: \")\n",
    "    categoria = input(\"Categoría: \")\n",
    "    cantidad = int(input(\"Cantidad en stock: \"))\n",
    "    fecha_entrada = datetime.today().strftime('%Y-%m-%d')\n",
    "\n",
    "    with open(INVENTARIO_FILE, mode='a', newline='', encoding='utf-8') as file:\n",
    "        writer = csv.writer(file)\n",
    "        writer.writerow([id_parte, nombre, fabricante, categoria, cantidad, fecha_entrada])\n",
    "    print(\"Componente agregado correctamente.\")"
   ]
  },
  {
   "cell_type": "code",
   "execution_count": null,
   "id": "71216ad8",
   "metadata": {},
   "outputs": [],
   "source": [
    "# Lectura secuencial de todos los registros\n",
    "def leer_inventario():\n",
    "    print(\"\\n--- Inventario completo ---\")\n",
    "    try:\n",
    "        with open(INVENTARIO_FILE, mode='r', newline='', encoding='utf-8') as file:\n",
    "            reader = csv.DictReader(file)\n",
    "            for i, row in enumerate(reader, start=1):\n",
    "                print(f\"\\nComponente #{i}\")\n",
    "                print(f\"  ID: {row['ID']}\")\n",
    "                print(f\"  Nombre: {row['Nombre']}\")\n",
    "                print(f\"  Fabricante: {row['Fabricante']}\")\n",
    "                print(f\"  Categoría: {row['Categoria']}\")\n",
    "                print(f\"  Cantidad en stock: {row['Cantidad']}\")\n",
    "                print(f\"  Fecha última entrada: {row['Fecha_Ultima_Entrada']}\")\n",
    "    except FileNotFoundError:\n",
    "        print(\"El archivo de inventario no existe.\")"
   ]
  },
  {
   "cell_type": "code",
   "execution_count": null,
   "id": "59ed870c",
   "metadata": {},
   "outputs": [],
   "source": []
  },
  {
   "cell_type": "code",
   "execution_count": null,
   "id": "24134f84",
   "metadata": {},
   "outputs": [],
   "source": []
  },
  {
   "cell_type": "code",
   "execution_count": null,
   "id": "9a0e18fd",
   "metadata": {},
   "outputs": [],
   "source": []
  },
  {
   "cell_type": "code",
   "execution_count": null,
   "id": "139cfe86",
   "metadata": {},
   "outputs": [],
   "source": []
  }
 ],
 "metadata": {
  "kernelspec": {
   "display_name": "Python 3",
   "language": "python",
   "name": "python3"
  },
  "language_info": {
   "name": "python",
   "version": "3.12.3"
  }
 },
 "nbformat": 4,
 "nbformat_minor": 5
}
